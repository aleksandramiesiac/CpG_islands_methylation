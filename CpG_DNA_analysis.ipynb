{
 "cells": [
  {
   "cell_type": "code",
   "execution_count": 3,
   "metadata": {},
   "outputs": [],
   "source": [
    "import pandas as pd \n",
    "import numpy as np"
   ]
  },
  {
   "cell_type": "code",
   "execution_count": 4,
   "metadata": {},
   "outputs": [],
   "source": [
    "import matplotlib.pyplot as plt"
   ]
  },
  {
   "cell_type": "code",
   "execution_count": 1,
   "metadata": {},
   "outputs": [],
   "source": [
    "def check_boundaries(data, prefix):\n",
    "    for i in range(data.shape[0]-1):\n",
    "        \n",
    "        if data.loc[i+1, prefix + '_start_before'] < data.loc[i, prefix + '_end_before']:\n",
    "            data.loc[i+1, prefix + '_start_before'] = data.loc[i, prefix + '_start_before']\n",
    "            \n",
    "        if data.loc[i+1, prefix + '_start_before'] < data.loc[i, 'end'] and prefix == 'shores':\n",
    "            data.loc[i+1, prefix + '_start_before'] = data.loc[i, 'end']+1\n",
    "            \n",
    "        if data.loc[i, prefix + '_end_after'] > data.loc[i+1, prefix + '_start_after']:\n",
    "            data.loc[i, prefix + '_end_after'] = data.loc[i+1, prefix + '_end_after']\n",
    "            \n",
    "        if data.loc[i, prefix + '_end_after'] > data.loc[i+1, 'start'] and prefix == 'shores':\n",
    "            data.loc[i, prefix + '_end_after'] = data.loc[i+1, 'start']-1\n",
    "            \n",
    "        if data.loc[i+1, prefix + '_start_before'] < data.loc[i, prefix + '_end_after']:\n",
    "            data.loc[i+1, prefix + '_start_before'] = data.loc[i, prefix + '_start_after']   \n",
    "            data.loc[i, prefix + '_end_after']  = data.loc[i+1, prefix + '_end_before']\n",
    "        \n",
    "    return data\n",
    "\n",
    "def check_shelves_sea(data, prefix1, prefix2):\n",
    "    for i in range(data.shape[0]-1):\n",
    "        if data.loc[i+1, prefix1 + '_start_before'] < data.loc[i, prefix2 + '_end_after']:\n",
    "            data.loc[i+1, prefix1 + '_start_before'] = data.loc[i, prefix2 + '_end_after']+1\n",
    "        if data.loc[i, prefix1 + '_end_after'] > data.loc[i+1, prefix2 + '_start_before']:\n",
    "            data.loc[i, prefix1 + '_end_after'] = data.loc[i+1, prefix2 + '_start_before']-1\n",
    "            \n",
    "        if prefix1 =='sea':\n",
    "            if data.loc[i, 'shores_start_after' ] == data.loc[i+1, 'sea_start_before'] and data.loc[i, 'shores_end_after'] == data.loc[i+1, 'sea_end_before']:\n",
    "                data.loc[i+1, 'sea_start_before'], data.loc[i+1, 'sea_end_before'] = data.loc[i+1, 'sea_end_before'], data.loc[i+1, 'sea_start_before']\n",
    "            \n",
    "    return data\n",
    "def save_data_to_bed_format(prefix, data, give_data = True):\n",
    "    data1 = data[['nazwa_chromo',prefix + '_start_before',prefix + '_end_before']]\n",
    "    data2 = data[['nazwa_chromo',prefix + '_start_after',prefix + '_end_after']]\n",
    "    data1.columns = ['nazwa_chromo','start', 'end']\n",
    "    data2.columns = ['nazwa_chromo','start', 'end']\n",
    "    data_all = data1.append(data2, sort = False).reset_index(drop=True)\n",
    "    if prefix !='shores':\n",
    "        index_to_drop = data_all.loc[data_all['end']<=data_all['start']].index.values\n",
    "        data_all.drop(index_to_drop, axis=0, inplace=True)\n",
    "    data_all.drop_duplicates(subset = ['nazwa_chromo','start','end'], inplace = True)\n",
    "    data_all.to_csv(\"CpG_\" + prefix + \".bed\", sep = '\\t', index = False, header=False)\n",
    "    if give_data:\n",
    "        return data_all\n",
    "    \n",
    "def count_how_many(methy,name, data, counts):\n",
    "    idx = 0 \n",
    "    methy_name = methy.loc[name, 'middle']\n",
    "    data_name = data.loc[name]\n",
    "    n = methy_name.shape[0]\n",
    "    \n",
    "    value = methy_name.iloc[idx]\n",
    "    for i , rows in data_name.iterrows():\n",
    "        while rows.start <= value <= rows.end:   \n",
    "            counts[rows.area] += 1\n",
    "            idx+=1\n",
    "            if idx >= n:\n",
    "                break\n",
    "            value = methy_name.iloc[idx]            \n",
    "    return counts"
   ]
  },
  {
   "cell_type": "markdown",
   "metadata": {},
   "source": [
    "# Wczytanie danych"
   ]
  },
  {
   "cell_type": "code",
   "execution_count": 6,
   "metadata": {},
   "outputs": [],
   "source": [
    "data = pd.read_csv('cpgIslandExt.bed', sep=\"\\t\", header=None)\n",
    "data.columns = [\"index\", \"nazwa_chromo\", \"start\", \"end\",'a','b','c','d','e','f','g']\n",
    "data.drop(['a','b','c','d','e','f','g'], axis=1, inplace=True)\n",
    "data.drop(data.loc[data['nazwa_chromo']=='chrX'].index.values, axis=0, inplace=True)\n",
    "data.drop(data.loc[data['nazwa_chromo']=='chrY'].index.values, axis=0, inplace=True)"
   ]
  },
  {
   "cell_type": "code",
   "execution_count": 7,
   "metadata": {},
   "outputs": [],
   "source": [
    "sizes = pd.read_csv('chroosom_sizes.txt', sep='\\t', header = None)\n",
    "sizes.columns = ['nazwa_chromo','koniec']"
   ]
  },
  {
   "cell_type": "code",
   "execution_count": 8,
   "metadata": {},
   "outputs": [],
   "source": [
    "data = data.merge(sizes, how = 'left', on = 'nazwa_chromo')"
   ]
  },
  {
   "cell_type": "markdown",
   "metadata": {},
   "source": [
    "# Zadanie 1"
   ]
  },
  {
   "cell_type": "code",
   "execution_count": 9,
   "metadata": {},
   "outputs": [],
   "source": [
    "# Shores: CpG islands borders +- 2kb\n",
    "# Shelves: Shores borders +- 2kb\n",
    "# Seas: Between shelves\n",
    "data['shores_start_before'] = np.where(data['start']-2000>0,data['start']-2000,1)\n",
    "data['shores_end_before']   = data['start']-1\n",
    "data['shores_start_after'] = data['end']+1\n",
    "data['shores_end_after']   = np.where(data['end']+2000>data['koniec'], data['koniec'],data['end']+2000)"
   ]
  },
  {
   "cell_type": "code",
   "execution_count": 10,
   "metadata": {},
   "outputs": [],
   "source": [
    "new_data = pd.DataFrame()\n",
    "for idx, name in enumerate(data['nazwa_chromo'].unique()):\n",
    "    data_temp = data.loc[data['nazwa_chromo']==name].sort_values(['start','end']).reset_index(drop=True)\n",
    "    data_temp = check_boundaries(data_temp, 'shores')\n",
    "    \n",
    "    data_temp['shelves_start_before'] = np.where(data_temp['shores_start_before']-2000>0,data_temp['shores_start_before']-2000,1)\n",
    "    data_temp['shelves_end_before']   = data_temp['shores_start_before']-1\n",
    "    data_temp['shelves_start_after'] = data_temp['shores_end_after']+1\n",
    "    data_temp['shelves_end_after']   = np.where(data_temp['shores_end_after']+2000>data_temp['koniec'], \\\n",
    "                                                data_temp['koniec'], data_temp['shores_end_after']+2000)\n",
    "    data_temp = check_boundaries(data_temp, 'shelves')\n",
    "    data_temp = check_shelves_sea(data_temp, 'shelves', 'shores')\n",
    "    \n",
    "    data_temp['sea_start_before'] = 1\n",
    "    data_temp['sea_end_before']   = data_temp['shelves_start_before']-1\n",
    "    data_temp['sea_start_after']  = data_temp['shelves_end_after']+1\n",
    "    data_temp['sea_end_after']    = data_temp['koniec']\n",
    "    data_temp = check_shelves_sea(data_temp, 'sea', 'shelves')\n",
    "    new_data = new_data.append(data_temp)"
   ]
  },
  {
   "cell_type": "code",
   "execution_count": 12,
   "metadata": {},
   "outputs": [],
   "source": [
    "islands = new_data[['nazwa_chromo','start', 'end']]\n",
    "islands.to_csv(\"CpG_Islands.bed\", sep = '\\t', index = False, header=False)"
   ]
  },
  {
   "cell_type": "code",
   "execution_count": 2,
   "metadata": {},
   "outputs": [
    {
     "name": "stderr",
     "output_type": "stream",
     "text": [
      "ERROR:root:Internal Python error in the inspect module.\n",
      "Below is the traceback from this internal error.\n",
      "\n"
     ]
    },
    {
     "name": "stdout",
     "output_type": "stream",
     "text": [
      "Traceback (most recent call last):\n",
      "  File \"/home/ola/anaconda3/lib/python3.7/site-packages/IPython/core/interactiveshell.py\", line 2961, in run_code\n",
      "    exec(code_obj, self.user_global_ns, self.user_ns)\n",
      "  File \"<ipython-input-2-7e5277544339>\", line 1, in <module>\n",
      "    shores = save_data_to_bed_format('shores',new_data)\n",
      "NameError: name 'new_data' is not defined\n",
      "\n",
      "During handling of the above exception, another exception occurred:\n",
      "\n",
      "Traceback (most recent call last):\n",
      "  File \"/home/ola/anaconda3/lib/python3.7/site-packages/IPython/core/interactiveshell.py\", line 1863, in showtraceback\n",
      "    stb = value._render_traceback_()\n",
      "AttributeError: 'NameError' object has no attribute '_render_traceback_'\n",
      "\n",
      "During handling of the above exception, another exception occurred:\n",
      "\n",
      "Traceback (most recent call last):\n",
      "  File \"/home/ola/anaconda3/lib/python3.7/site-packages/IPython/core/ultratb.py\", line 1095, in get_records\n",
      "    return _fixed_getinnerframes(etb, number_of_lines_of_context, tb_offset)\n",
      "  File \"/home/ola/anaconda3/lib/python3.7/site-packages/IPython/core/ultratb.py\", line 311, in wrapped\n",
      "    return f(*args, **kwargs)\n",
      "  File \"/home/ola/anaconda3/lib/python3.7/site-packages/IPython/core/ultratb.py\", line 345, in _fixed_getinnerframes\n",
      "    records = fix_frame_records_filenames(inspect.getinnerframes(etb, context))\n",
      "  File \"/home/ola/anaconda3/lib/python3.7/inspect.py\", line 1502, in getinnerframes\n",
      "    frameinfo = (tb.tb_frame,) + getframeinfo(tb, context)\n",
      "  File \"/home/ola/anaconda3/lib/python3.7/inspect.py\", line 1460, in getframeinfo\n",
      "    filename = getsourcefile(frame) or getfile(frame)\n",
      "  File \"/home/ola/anaconda3/lib/python3.7/inspect.py\", line 696, in getsourcefile\n",
      "    if getattr(getmodule(object, filename), '__loader__', None) is not None:\n",
      "  File \"/home/ola/anaconda3/lib/python3.7/inspect.py\", line 725, in getmodule\n",
      "    file = getabsfile(object, _filename)\n",
      "  File \"/home/ola/anaconda3/lib/python3.7/inspect.py\", line 709, in getabsfile\n",
      "    return os.path.normcase(os.path.abspath(_filename))\n",
      "  File \"/home/ola/anaconda3/lib/python3.7/posixpath.py\", line 383, in abspath\n",
      "    cwd = os.getcwd()\n",
      "OSError: [Errno 5] Input/output error\n"
     ]
    },
    {
     "ename": "NameError",
     "evalue": "name 'new_data' is not defined",
     "output_type": "error",
     "traceback": [
      "\u001b[0;31m---------------------------------------------------------------------------\u001b[0m"
     ]
    }
   ],
   "source": [
    "shores = save_data_to_bed_format('shores',new_data)\n",
    "shelves = save_data_to_bed_format('shelves',new_data)\n",
    "sea = save_data_to_bed_format('sea',new_data)"
   ]
  },
  {
   "cell_type": "markdown",
   "metadata": {},
   "source": [
    "# Zadanie 2"
   ]
  },
  {
   "cell_type": "code",
   "execution_count": 10,
   "metadata": {},
   "outputs": [],
   "source": [
    "methy = pd.read_csv('HAIB.A549.EtOH.Rep.3.bed', sep=\"\\t\", header=None)\n",
    "methy.drop([3,4,5,6,7,8], axis=1, inplace=True)\n",
    "methy.columns = ['nazwa_chromo','start','end']\n",
    "methy.drop(methy.loc[methy['nazwa_chromo']=='chrX'].index.values, axis=0, inplace=True)\n",
    "methy.drop(methy.loc[methy['nazwa_chromo']=='chrY'].index.values, axis=0, inplace=True)"
   ]
  },
  {
   "cell_type": "code",
   "execution_count": 11,
   "metadata": {},
   "outputs": [],
   "source": [
    "methy['middle'] = ((methy['start']+methy['end'])/2).astype(int)"
   ]
  },
  {
   "cell_type": "markdown",
   "metadata": {},
   "source": [
    "# Zadanie 3 "
   ]
  },
  {
   "cell_type": "code",
   "execution_count": 12,
   "metadata": {},
   "outputs": [],
   "source": [
    "islands.insert(loc=0, column='area',value = 'CpGIslands')\n",
    "shores.insert(loc=0, column='area',value ='Shores')\n",
    "shelves.insert(loc=0, column='area',value ='Shelves')\n",
    "sea.insert(loc=0, column='area',value ='Sea')\n",
    "\n",
    "\n",
    "areas = pd.DataFrame()\n",
    "areas = areas.append(islands, sort = False)\n",
    "areas = areas.append(shores, sort = False)\n",
    "areas = areas.append(shelves, sort = False)\n",
    "areas = areas.append(sea, sort = False)"
   ]
  },
  {
   "cell_type": "code",
   "execution_count": 13,
   "metadata": {},
   "outputs": [],
   "source": [
    "areas = areas.sort_values(['nazwa_chromo','start','end']).drop_duplicates(subset = ['nazwa_chromo','start','end']).reset_index(drop=True)"
   ]
  },
  {
   "cell_type": "code",
   "execution_count": 14,
   "metadata": {},
   "outputs": [],
   "source": [
    "areas.set_index('nazwa_chromo',inplace=True)\n",
    "methy.set_index('nazwa_chromo',inplace=True)"
   ]
  },
  {
   "cell_type": "code",
   "execution_count": 15,
   "metadata": {},
   "outputs": [],
   "source": [
    "counts = {'Sea':0, 'Shelves':0, 'Shores':0, 'CpGIslands':0}"
   ]
  },
  {
   "cell_type": "code",
   "execution_count": 16,
   "metadata": {},
   "outputs": [
    {
     "name": "stdout",
     "output_type": "stream",
     "text": [
      "chr17 chr4 chr18 chr9 chr5 chr1 chr8 chr7 chr2 chr16 chr20 chr19 chr10 chr3 chr11 chr12 chr6 chr21 chr22 chr13 chr14 chr15 "
     ]
    }
   ],
   "source": [
    "methy.sort_values(['middle'], inplace=True)\n",
    "for name in methy.index.unique():\n",
    "    print(name, end = ' ')\n",
    "    count_how_many(methy, name, areas, counts)"
   ]
  },
  {
   "cell_type": "code",
   "execution_count": 17,
   "metadata": {},
   "outputs": [
    {
     "data": {
      "text/plain": [
       "{'Sea': 170396, 'Shelves': 45452, 'Shores': 122697, 'CpGIslands': 132325}"
      ]
     },
     "execution_count": 17,
     "metadata": {},
     "output_type": "execute_result"
    }
   ],
   "source": [
    "counts"
   ]
  },
  {
   "cell_type": "code",
   "execution_count": 18,
   "metadata": {},
   "outputs": [
    {
     "data": {
      "text/html": [
       "<div>\n",
       "<style scoped>\n",
       "    .dataframe tbody tr th:only-of-type {\n",
       "        vertical-align: middle;\n",
       "    }\n",
       "\n",
       "    .dataframe tbody tr th {\n",
       "        vertical-align: top;\n",
       "    }\n",
       "\n",
       "    .dataframe thead th {\n",
       "        text-align: right;\n",
       "    }\n",
       "</style>\n",
       "<table border=\"1\" class=\"dataframe\">\n",
       "  <thead>\n",
       "    <tr style=\"text-align: right;\">\n",
       "      <th></th>\n",
       "      <th>counts</th>\n",
       "      <th>prc</th>\n",
       "    </tr>\n",
       "  </thead>\n",
       "  <tbody>\n",
       "    <tr>\n",
       "      <th>Sea</th>\n",
       "      <td>170396</td>\n",
       "      <td>0.361875</td>\n",
       "    </tr>\n",
       "    <tr>\n",
       "      <th>Shelves</th>\n",
       "      <td>45452</td>\n",
       "      <td>0.096528</td>\n",
       "    </tr>\n",
       "    <tr>\n",
       "      <th>Shores</th>\n",
       "      <td>122697</td>\n",
       "      <td>0.260575</td>\n",
       "    </tr>\n",
       "    <tr>\n",
       "      <th>CpGIslands</th>\n",
       "      <td>132325</td>\n",
       "      <td>0.281022</td>\n",
       "    </tr>\n",
       "  </tbody>\n",
       "</table>\n",
       "</div>"
      ],
      "text/plain": [
       "            counts       prc\n",
       "Sea         170396  0.361875\n",
       "Shelves      45452  0.096528\n",
       "Shores      122697  0.260575\n",
       "CpGIslands  132325  0.281022"
      ]
     },
     "execution_count": 18,
     "metadata": {},
     "output_type": "execute_result"
    }
   ],
   "source": [
    "counts_df = pd.DataFrame.from_dict(counts, orient = \"index\")\n",
    "counts_df.columns =['counts']\n",
    "counts_df[\"prc\"] = counts_df.apply(lambda row: row.counts / methy.shape[0], axis = 1)\n",
    "counts_df"
   ]
  },
  {
   "cell_type": "code",
   "execution_count": 19,
   "metadata": {},
   "outputs": [
    {
     "data": {
      "image/png": "[encoded data removed]",
      "text/plain": [
       "<Figure size 864x576 with 1 Axes>"
      ]
     },
     "metadata": {
      "needs_background": "light"
     },
     "output_type": "display_data"
    }
   ],
   "source": [
    "ax = counts_df.plot.bar( y='prc', rot=0, figsize= (12,8))\n",
    "for i, v in enumerate(counts_df.counts):\n",
    "    ax.text(i - .18, v + 1000, str(v), color='black', size = 15)"
   ]
  },
  {
   "cell_type": "code",
   "execution_count": 21,
   "metadata": {},
   "outputs": [
    {
     "data": {
      "image/png": "[encoded data removed]",
      "text/plain": [
       "<Figure size 720x720 with 1 Axes>"
      ]
     },
     "metadata": {},
     "output_type": "display_data"
    }
   ],
   "source": [
    "plot = counts_df.plot.pie(y='prc', figsize=(10,10))"
   ]
  },
  {
   "cell_type": "code",
   "execution_count": null,
   "metadata": {},
   "outputs": [],
   "source": []
  }
 ],
 "metadata": {
  "kernelspec": {
   "display_name": "Python 3",
   "language": "python",
   "name": "python3"
  },
  "language_info": {
   "codemirror_mode": {
    "name": "ipython",
    "version": 3
   },
   "file_extension": ".py",
   "mimetype": "text/x-python",
   "name": "python",
   "nbconvert_exporter": "python",
   "pygments_lexer": "ipython3",
   "version": "3.7.2"
  }
 },
 "nbformat": 4,
 "nbformat_minor": 2
}
